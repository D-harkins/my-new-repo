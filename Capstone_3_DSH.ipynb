{
  "nbformat": 4,
  "nbformat_minor": 0,
  "metadata": {
    "colab": {
      "name": "Capstone 3- DSH",
      "provenance": [],
      "authorship_tag": "ABX9TyOxnkjYAgUpn3eBZLuXb1gz",
      "include_colab_link": true
    },
    "kernelspec": {
      "name": "python3",
      "display_name": "Python 3"
    },
    "language_info": {
      "name": "python"
    }
  },
  "cells": [
    {
      "cell_type": "markdown",
      "metadata": {
        "id": "view-in-github",
        "colab_type": "text"
      },
      "source": [
        "<a href=\"https://colab.research.google.com/github/D-harkins/my-new-repo/blob/main/Capstone_3_DSH.ipynb\" target=\"_parent\"><img src=\"https://colab.research.google.com/assets/colab-badge.svg\" alt=\"Open In Colab\"/></a>"
      ]
    },
    {
      "cell_type": "code",
      "metadata": {
        "colab": {
          "base_uri": "https://localhost:8080/"
        },
        "id": "jxahi3ezLXmG",
        "outputId": "ecd3cfba-3b86-47bf-c3fc-6f0b0c7f65e6"
      },
      "source": [
        "from google.colab import drive\n",
        "drive.mount('/content/gdrive')\n",
        "# Import pandas and read in the GDrive-mounted CSV\n",
        "import numpy as np \n",
        "import pandas as pd\n",
        "import matplotlib.pyplot as plt\n",
        "import os\n",
        "grades_df = pd.read_csv\n",
        "grades_df = pd.read_csv('/content/gdrive/My Drive/Colab Datasets/DOHMH_New_York_City_Restaurant_Inspection_Results.csv')"
      ],
      "execution_count": 11,
      "outputs": [
        {
          "output_type": "stream",
          "name": "stdout",
          "text": [
            "Drive already mounted at /content/gdrive; to attempt to forcibly remount, call drive.mount(\"/content/gdrive\", force_remount=True).\n"
          ]
        }
      ]
    },
    {
      "cell_type": "code",
      "metadata": {
        "colab": {
          "base_uri": "https://localhost:8080/",
          "height": 666
        },
        "id": "4XhDBs7uMjhk",
        "outputId": "25674163-1a99-4335-acbb-54919589a243"
      },
      "source": [
        "grades_df.head()"
      ],
      "execution_count": 12,
      "outputs": [
        {
          "output_type": "execute_result",
          "data": {
            "text/html": [
              "<div>\n",
              "<style scoped>\n",
              "    .dataframe tbody tr th:only-of-type {\n",
              "        vertical-align: middle;\n",
              "    }\n",
              "\n",
              "    .dataframe tbody tr th {\n",
              "        vertical-align: top;\n",
              "    }\n",
              "\n",
              "    .dataframe thead th {\n",
              "        text-align: right;\n",
              "    }\n",
              "</style>\n",
              "<table border=\"1\" class=\"dataframe\">\n",
              "  <thead>\n",
              "    <tr style=\"text-align: right;\">\n",
              "      <th></th>\n",
              "      <th>CAMIS</th>\n",
              "      <th>DBA</th>\n",
              "      <th>BORO</th>\n",
              "      <th>BUILDING</th>\n",
              "      <th>STREET</th>\n",
              "      <th>ZIPCODE</th>\n",
              "      <th>PHONE</th>\n",
              "      <th>CUISINE DESCRIPTION</th>\n",
              "      <th>INSPECTION DATE</th>\n",
              "      <th>ACTION</th>\n",
              "      <th>VIOLATION CODE</th>\n",
              "      <th>VIOLATION DESCRIPTION</th>\n",
              "      <th>CRITICAL FLAG</th>\n",
              "      <th>SCORE</th>\n",
              "      <th>GRADE</th>\n",
              "      <th>GRADE DATE</th>\n",
              "      <th>RECORD DATE</th>\n",
              "      <th>INSPECTION TYPE</th>\n",
              "    </tr>\n",
              "  </thead>\n",
              "  <tbody>\n",
              "    <tr>\n",
              "      <th>0</th>\n",
              "      <td>40511702</td>\n",
              "      <td>NOTARO RESTAURANT</td>\n",
              "      <td>MANHATTAN</td>\n",
              "      <td>635</td>\n",
              "      <td>SECOND AVENUE</td>\n",
              "      <td>10016.0</td>\n",
              "      <td>2126863400</td>\n",
              "      <td>Italian</td>\n",
              "      <td>6/15/2015</td>\n",
              "      <td>Violations were cited in the following area(s).</td>\n",
              "      <td>02B</td>\n",
              "      <td>Hot food item not held at or above 140Âº F.</td>\n",
              "      <td>Critical</td>\n",
              "      <td>30.0</td>\n",
              "      <td>NaN</td>\n",
              "      <td>NaN</td>\n",
              "      <td>8/28/2017</td>\n",
              "      <td>Cycle Inspection / Initial Inspection</td>\n",
              "    </tr>\n",
              "    <tr>\n",
              "      <th>1</th>\n",
              "      <td>40511702</td>\n",
              "      <td>NOTARO RESTAURANT</td>\n",
              "      <td>MANHATTAN</td>\n",
              "      <td>635</td>\n",
              "      <td>SECOND AVENUE</td>\n",
              "      <td>10016.0</td>\n",
              "      <td>2126863400</td>\n",
              "      <td>Italian</td>\n",
              "      <td>11/25/2014</td>\n",
              "      <td>Violations were cited in the following area(s).</td>\n",
              "      <td>20F</td>\n",
              "      <td>Current letter grade card not posted.</td>\n",
              "      <td>Not Critical</td>\n",
              "      <td>NaN</td>\n",
              "      <td>NaN</td>\n",
              "      <td>NaN</td>\n",
              "      <td>8/28/2017</td>\n",
              "      <td>Administrative Miscellaneous / Initial Inspection</td>\n",
              "    </tr>\n",
              "    <tr>\n",
              "      <th>2</th>\n",
              "      <td>50046354</td>\n",
              "      <td>VITE BAR</td>\n",
              "      <td>QUEENS</td>\n",
              "      <td>2507</td>\n",
              "      <td>BROADWAY</td>\n",
              "      <td>11106.0</td>\n",
              "      <td>3478134702</td>\n",
              "      <td>Italian</td>\n",
              "      <td>10/3/2016</td>\n",
              "      <td>Violations were cited in the following area(s).</td>\n",
              "      <td>10F</td>\n",
              "      <td>Non-food contact surface improperly constructe...</td>\n",
              "      <td>Not Critical</td>\n",
              "      <td>2.0</td>\n",
              "      <td>NaN</td>\n",
              "      <td>NaN</td>\n",
              "      <td>8/28/2017</td>\n",
              "      <td>Pre-permit (Operational) / Initial Inspection</td>\n",
              "    </tr>\n",
              "    <tr>\n",
              "      <th>3</th>\n",
              "      <td>50061389</td>\n",
              "      <td>TACK'S CHINESE TAKE OUT</td>\n",
              "      <td>STATEN ISLAND</td>\n",
              "      <td>11C</td>\n",
              "      <td>HOLDEN BLVD</td>\n",
              "      <td>10314.0</td>\n",
              "      <td>7189839854</td>\n",
              "      <td>Chinese</td>\n",
              "      <td>5/17/2017</td>\n",
              "      <td>Violations were cited in the following area(s).</td>\n",
              "      <td>02G</td>\n",
              "      <td>Cold food item held above 41Âº F (smoked fish ...</td>\n",
              "      <td>Critical</td>\n",
              "      <td>46.0</td>\n",
              "      <td>NaN</td>\n",
              "      <td>NaN</td>\n",
              "      <td>8/28/2017</td>\n",
              "      <td>Pre-permit (Operational) / Initial Inspection</td>\n",
              "    </tr>\n",
              "    <tr>\n",
              "      <th>4</th>\n",
              "      <td>41516263</td>\n",
              "      <td>NO QUARTER</td>\n",
              "      <td>BROOKLYN</td>\n",
              "      <td>8015</td>\n",
              "      <td>5 AVENUE</td>\n",
              "      <td>11209.0</td>\n",
              "      <td>7187019180</td>\n",
              "      <td>American</td>\n",
              "      <td>3/30/2017</td>\n",
              "      <td>Violations were cited in the following area(s).</td>\n",
              "      <td>04M</td>\n",
              "      <td>Live roaches present in facility's food and/or...</td>\n",
              "      <td>Critical</td>\n",
              "      <td>18.0</td>\n",
              "      <td>NaN</td>\n",
              "      <td>NaN</td>\n",
              "      <td>8/28/2017</td>\n",
              "      <td>Cycle Inspection / Initial Inspection</td>\n",
              "    </tr>\n",
              "  </tbody>\n",
              "</table>\n",
              "</div>"
            ],
            "text/plain": [
              "      CAMIS  ...                                    INSPECTION TYPE\n",
              "0  40511702  ...              Cycle Inspection / Initial Inspection\n",
              "1  40511702  ...  Administrative Miscellaneous / Initial Inspection\n",
              "2  50046354  ...      Pre-permit (Operational) / Initial Inspection\n",
              "3  50061389  ...      Pre-permit (Operational) / Initial Inspection\n",
              "4  41516263  ...              Cycle Inspection / Initial Inspection\n",
              "\n",
              "[5 rows x 18 columns]"
            ]
          },
          "metadata": {},
          "execution_count": 12
        }
      ]
    },
    {
      "cell_type": "code",
      "metadata": {
        "colab": {
          "base_uri": "https://localhost:8080/"
        },
        "id": "LG0yDas4Moq6",
        "outputId": "dada8394-68c1-4454-c130-6bb68a390c1b"
      },
      "source": [
        "print('Null Variables: ', grades_df.columns[grades_df.isnull().any()].tolist())"
      ],
      "execution_count": 13,
      "outputs": [
        {
          "output_type": "stream",
          "name": "stdout",
          "text": [
            "Null Variables:  ['DBA', 'BUILDING', 'STREET', 'ZIPCODE', 'PHONE', 'ACTION', 'VIOLATION CODE', 'VIOLATION DESCRIPTION', 'SCORE', 'GRADE', 'GRADE DATE', 'INSPECTION TYPE']\n"
          ]
        }
      ]
    },
    {
      "cell_type": "code",
      "metadata": {
        "colab": {
          "base_uri": "https://localhost:8080/",
          "height": 396
        },
        "id": "VJPjSv-mMzXC",
        "outputId": "53c5c1a9-4187-421e-bad7-bb32910af0b7"
      },
      "source": [
        "null_var = ['DBA', 'BUILDING', 'STREET', 'ZIPCODE', 'PHONE', 'ACTION',\n",
        "       'VIOLATION CODE', 'VIOLATION DESCRIPTION', 'SCORE', 'GRADE',\n",
        "       'GRADE DATE', 'INSPECTION TYPE']\n",
        "null_cnt = grades_df[null_var].isnull().sum()\n",
        "null_cnt = null_cnt.to_frame()\n",
        "null_cnt.columns = ['null_sum']\n",
        "null_cnt['not_null'] = grades_df.shape[0] - null_cnt['null_sum']\n",
        "null_cnt.plot.bar(stacked = True)"
      ],
      "execution_count": 15,
      "outputs": [
        {
          "output_type": "execute_result",
          "data": {
            "text/plain": [
              "<matplotlib.axes._subplots.AxesSubplot at 0x7f987dc8e650>"
            ]
          },
          "metadata": {},
          "execution_count": 15
        },
        {
          "output_type": "display_data",
          "data": {
            "image/png": "[encoded data removed]",
            "text/plain": [
              "<Figure size 432x288 with 1 Axes>"
            ]
          },
          "metadata": {
            "needs_background": "light"
          }
        }
      ]
    },
    {
      "cell_type": "code",
      "metadata": {
        "colab": {
          "base_uri": "https://localhost:8080/"
        },
        "id": "PJ-vF4OxM_2g",
        "outputId": "0d90175b-80e7-44a8-ca64-57bc587b78af"
      },
      "source": [
        "null_test = grades_df.columns[grades_df.columns.str.contains('VIOLATION')].tolist()\n",
        "null_test2= ['SCORE']\n",
        "grades_df[null_test+null_test2].isnull(). sum()"
      ],
      "execution_count": 16,
      "outputs": [
        {
          "output_type": "execute_result",
          "data": {
            "text/plain": [
              "VIOLATION CODE            6504\n",
              "VIOLATION DESCRIPTION     6979\n",
              "SCORE                    23214\n",
              "dtype: int64"
            ]
          },
          "metadata": {},
          "execution_count": 16
        }
      ]
    },
    {
      "cell_type": "code",
      "metadata": {
        "id": "iucop7pJNjwS"
      },
      "source": [
        "grades_df"
      ],
      "execution_count": null,
      "outputs": []
    }
  ]
}